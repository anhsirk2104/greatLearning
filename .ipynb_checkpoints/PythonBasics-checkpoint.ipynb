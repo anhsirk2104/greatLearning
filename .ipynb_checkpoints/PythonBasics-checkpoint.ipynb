{
 "cells": [
  {
   "cell_type": "markdown",
   "id": "2f084f98",
   "metadata": {},
   "source": [
    "# Python Basics"
   ]
  },
  {
   "cell_type": "code",
   "execution_count": 1,
   "id": "364a3f70",
   "metadata": {},
   "outputs": [
    {
     "name": "stdout",
     "output_type": "stream",
     "text": [
      "Hello World\n"
     ]
    }
   ],
   "source": [
    "print (\"Hello World\")"
   ]
  },
  {
   "cell_type": "code",
   "execution_count": 2,
   "id": "c6a64c0c",
   "metadata": {},
   "outputs": [
    {
     "name": "stdout",
     "output_type": "stream",
     "text": [
      "['a', 'b', 'c', 'd', 'e']\n",
      "[0, 1, 2, 3, 4]\n"
     ]
    }
   ],
   "source": [
    "a='abcde'\n",
    "\n",
    "b = list(a)\n",
    "print (b)\n",
    "\n",
    "c = list(range(len(a)))\n",
    "print (c)"
   ]
  },
  {
   "cell_type": "code",
   "execution_count": 3,
   "id": "208e65c7",
   "metadata": {},
   "outputs": [],
   "source": [
    "#c.extend(b)\n",
    "#print(c)"
   ]
  },
  {
   "cell_type": "code",
   "execution_count": 4,
   "id": "d8d988c9",
   "metadata": {},
   "outputs": [
    {
     "name": "stdout",
     "output_type": "stream",
     "text": [
      "[0, 1, 2, 3, 4, ['a', 'b', 'c', 'd', 'e']]\n"
     ]
    }
   ],
   "source": [
    "c.append(b)\n",
    "print(c)"
   ]
  },
  {
   "cell_type": "code",
   "execution_count": 1,
   "id": "b3021e89",
   "metadata": {},
   "outputs": [
    {
     "name": "stdout",
     "output_type": "stream",
     "text": [
      "{0: [], 1: [1], 2: [2, 2], 3: [3, 3, 3]}\n"
     ]
    }
   ],
   "source": [
    "Dict = { 0 : [], 1 : [1], 2: [2, 2], 3: [3, 3, 3]}\n",
    "print (Dict)"
   ]
  },
  {
   "cell_type": "code",
   "execution_count": 2,
   "id": "a7f69d19",
   "metadata": {},
   "outputs": [
    {
     "ename": "SyntaxError",
     "evalue": "cannot assign to function call (17503767.py, line 5)",
     "output_type": "error",
     "traceback": [
      "\u001b[0;36m  File \u001b[0;32m\"/var/folders/3d/yq_k5kq92qj_tppjpvd8kzk00000gp/T/ipykernel_12061/17503767.py\"\u001b[0;36m, line \u001b[0;32m5\u001b[0m\n\u001b[0;31m    B.keys() = A\u001b[0m\n\u001b[0m    ^\u001b[0m\n\u001b[0;31mSyntaxError\u001b[0m\u001b[0;31m:\u001b[0m cannot assign to function call\n"
     ]
    }
   ],
   "source": [
    "A=['A', 'B', 'C', 'D', 'E']\n",
    "\n",
    "B={}\n",
    "\n",
    "B.keys() = A\n",
    "\n",
    "B.values()=A\n",
    "\n",
    "A=B\n",
    "\n",
    "print(A)"
   ]
  },
  {
   "cell_type": "code",
   "execution_count": 1,
   "id": "9d7ed5e8",
   "metadata": {},
   "outputs": [
    {
     "name": "stdout",
     "output_type": "stream",
     "text": [
      "({'a'}, {'b'}, {'c'})\n"
     ]
    }
   ],
   "source": [
    "A =['a']\n",
    "\n",
    "B =['b']\n",
    "\n",
    "C= ['c']\n",
    "\n",
    "output = set(A*5),set(B*5),set(C*5)\n",
    "\n",
    "print(output)"
   ]
  },
  {
   "cell_type": "code",
   "execution_count": 3,
   "id": "f7cce552",
   "metadata": {},
   "outputs": [
    {
     "name": "stdout",
     "output_type": "stream",
     "text": [
      "range(0, 3)\n",
      "3\n",
      "1\n"
     ]
    }
   ],
   "source": [
    "D = A,B,C = (1,2,3)\n",
    "\n",
    "print (range(3))\n",
    "print (sum(range(3)))\n",
    "print (sum(range(len(D)))/2)\n",
    "if C == sum(range(len(D)))/2:\n",
    "\n",
    "  print(B)\n",
    "\n",
    "else:\n",
    "\n",
    "  print(A)"
   ]
  },
  {
   "cell_type": "code",
   "execution_count": null,
   "id": "7179552c",
   "metadata": {},
   "outputs": [],
   "source": []
  }
 ],
 "metadata": {
  "kernelspec": {
   "display_name": "Python 3 (ipykernel)",
   "language": "python",
   "name": "python3"
  },
  "language_info": {
   "codemirror_mode": {
    "name": "ipython",
    "version": 3
   },
   "file_extension": ".py",
   "mimetype": "text/x-python",
   "name": "python",
   "nbconvert_exporter": "python",
   "pygments_lexer": "ipython3",
   "version": "3.9.7"
  }
 },
 "nbformat": 4,
 "nbformat_minor": 5
}
