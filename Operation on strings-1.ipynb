{
 "cells": [
  {
   "cell_type": "markdown",
   "metadata": {},
   "source": [
    "## 1). Given a string - 'Today is a sunny day'\n",
    "\n",
    "#### a). Write a code to get 'Today and ‘Sunny'\n",
    "\n",
    "#### b). Obtain the last 2 letters\n",
    "\n",
    "#### c). Write the statement backwards\n"
   ]
  },
  {
   "cell_type": "code",
   "execution_count": 1,
   "metadata": {},
   "outputs": [],
   "source": [
    "given_str = \"Today is a sunny day\"\n"
   ]
  },
  {
   "cell_type": "code",
   "execution_count": 2,
   "metadata": {},
   "outputs": [
    {
     "name": "stdout",
     "output_type": "stream",
     "text": [
      "Today\n",
      "sunny\n"
     ]
    }
   ],
   "source": [
    "#a). Write a code to get 'Today and ‘Sunny'\n",
    "\n",
    "str_to_search = 'Today'\n",
    "\n",
    "# Can be put into a function with some error statements as it \n",
    "# assumes that the string to be searched is available in the given string\n",
    "strt_cntr = given_str.index(str_to_search)\n",
    "end_cntr = strt_cntr + len(str_to_search)\n",
    "print (given_str[strt_cntr:end_cntr])\n",
    "\n",
    "str_to_search = 'sunny'\n",
    "\n",
    "strt_cntr = given_str.index(str_to_search)\n",
    "end_cntr = strt_cntr + len(str_to_search)\n",
    "print (given_str[strt_cntr:end_cntr])\n"
   ]
  },
  {
   "cell_type": "code",
   "execution_count": 3,
   "metadata": {},
   "outputs": [
    {
     "data": {
      "text/plain": [
       "'ay'"
      ]
     },
     "execution_count": 3,
     "metadata": {},
     "output_type": "execute_result"
    }
   ],
   "source": [
    "#Obtain the last 2 letters\n",
    "\n",
    "given_str[-2:]"
   ]
  },
  {
   "cell_type": "code",
   "execution_count": 4,
   "metadata": {},
   "outputs": [
    {
     "data": {
      "text/plain": [
       "'yad ynnus a si yadoT'"
      ]
     },
     "execution_count": 4,
     "metadata": {},
     "output_type": "execute_result"
    }
   ],
   "source": [
    "#Write the statement backwards\n",
    "given_str[::-1]"
   ]
  },
  {
   "cell_type": "markdown",
   "metadata": {},
   "source": [
    "## 2). Concatenate the variables 'num = 34 and 'string ='How old are you?'  using '+' operator."
   ]
  },
  {
   "cell_type": "code",
   "execution_count": 5,
   "metadata": {},
   "outputs": [
    {
     "name": "stdout",
     "output_type": "stream",
     "text": [
      "34How old are you?\n"
     ]
    }
   ],
   "source": [
    "numVar = 34\n",
    "strVar = \"How old are you?\"\n",
    "\n",
    "concatVar = str(numVar) + strVar\n",
    "print (concatVar)"
   ]
  },
  {
   "cell_type": "code",
   "execution_count": null,
   "metadata": {},
   "outputs": [],
   "source": []
  }
 ],
 "metadata": {
  "kernelspec": {
   "display_name": "Python 3 (ipykernel)",
   "language": "python",
   "name": "python3"
  },
  "language_info": {
   "codemirror_mode": {
    "name": "ipython",
    "version": 3
   },
   "file_extension": ".py",
   "mimetype": "text/x-python",
   "name": "python",
   "nbconvert_exporter": "python",
   "pygments_lexer": "ipython3",
   "version": "3.9.7"
  }
 },
 "nbformat": 4,
 "nbformat_minor": 2
}
